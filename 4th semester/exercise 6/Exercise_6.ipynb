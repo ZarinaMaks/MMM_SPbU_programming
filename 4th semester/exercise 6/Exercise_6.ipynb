{
  "cells":[
    {
      "cell_type":"markdown",
      "source":[
        "**Справедлива теорема аппроксимации:**\n",
        "Искусственная нейронная сеть прямой связи (англ. feed-forward; в которых связи не образуют циклов) с одним скрытым слоем может аппроксимировать любую непрерывную функцию многих переменных с любой точностью."
      ],
      "metadata":{
        
      }
    },
    {
      "cell_type":"code",
      "source":[
        "import tensorflow as tf\n",
        "import matplotlib.pyplot as plt\n",
        "import numpy as np\n",
        "import math\n",
        "\n",
        "x_min, x_max = 0, 10\n",
        "\n",
        "test_data_size = 1000 # amount of data for learning\n",
        "iterations = 10000 # amount of iterations\n",
        "learn_rate = 0.01 # re-learning coefficient\n",
        "hiddenSize = 10 # size of hidden layer\n",
        "\n",
        "def random_test_values():\n",
        "    train_x = []\n",
        "    train_y = []\n",
        "    for _ in range(test_data_size):\n",
        "        x = x_min+np.random.rand()*(x_max-x_min)\n",
        "        y = math.sin(x) # studied function\n",
        "        train_x.append([x])\n",
        "        train_y.append([y])\n",
        "\n",
        "    return np.array(train_x), np.array(train_y)\n",
        "\n",
        "x = tf.placeholder(tf.float32, [None, 1], name=\"x\") #function arguments\n",
        "y = tf.placeholder(tf.float32, [None, 1], name=\"y\") #function values\n",
        "\n",
        "# Hidden layer:\n",
        "nn = tf.layers.dense(x, hiddenSize,\n",
        "                     activation=tf.nn.sigmoid,\n",
        "                     kernel_initializer=tf.initializers.ones(),\n",
        "                     bias_initializer=tf.initializers.random_uniform(minval=-x_max, maxval=-x_min),\n",
        "                     name=\"hidden\")\n",
        "\n",
        "# Final layer:\n",
        "model = tf.layers.dense(nn, 1,\n",
        "                        activation=None,\n",
        "                        name=\"output\")\n",
        "\n",
        "cost = tf.losses.mean_squared_error(y, model)\n",
        "train = tf.train.GradientDescentOptimizer(learn_rate).minimize(cost)\n",
        "init = tf.initializers.global_variables()\n",
        "\n",
        "with tf.Session() as session:\n",
        "    session.run(init)\n",
        "    for _ in range(iterations):\n",
        "\n",
        "        train_dataset, train_values = random_test_values()\n",
        "\n",
        "        session.run(train, feed_dict={\n",
        "            x: train_dataset,\n",
        "            y: train_values\n",
        "        })\n",
        "\n",
        "        if(_ % 1000 == 999):\n",
        "            print(\"cost = {}\".format(session.run(cost, feed_dict={\n",
        "                x: train_dataset,\n",
        "                y: train_values\n",
        "            })))\n",
        "\n",
        "    train_dataset, train_values = random_test_values()\n",
        "\n",
        "    train_values1 = session.run(model, feed_dict={\n",
        "        x: train_dataset,\n",
        "    })\n",
        "\n",
        "    plt.plot(train_dataset, train_values, \"bo\", train_dataset, train_values1, \"ro\")\n",
        "    plt.show()\n",
        "\n",
        "    with tf.variable_scope(\"hidden\", reuse=True):\n",
        "        w = tf.get_variable(\"kernel\")\n",
        "        b = tf.get_variable(\"bias\")\n",
        "        print(\"hidden:\")\n",
        "        print(\"kernel=\", w.eval())\n",
        "        print(\"bias = \", b.eval())\n",
        "    \n",
        "    with tf.variable_scope(\"output\", reuse=True):\n",
        "        w = tf.get_variable(\"kernel\")\n",
        "        b = tf.get_variable(\"bias\")\n",
        "        print(\"output:\")\n",
        "        print(\"kernel=\", w.eval())\n",
        "        print(\"bias = \", b.eval())"
      ],
      "execution_count":1,
      "outputs":[
        {
          "ename":"AttributeError",
          "evalue":"AttributeError: module 'tensorflow' has no attribute 'placeholder'",
          "traceback":[
            "\u001b[0;31m---------------------------------------------------------------------------",
            "Traceback (most recent call last)",
            "    at line 24 in <module>",
            "AttributeError: module 'tensorflow' has no attribute 'placeholder'"
          ],
          "output_type":"error"
        }
      ],
      "metadata":{
        
      }
    }
  ],
  "metadata":{
    
  },
  "nbformat":4,
  "nbformat_minor":0
}