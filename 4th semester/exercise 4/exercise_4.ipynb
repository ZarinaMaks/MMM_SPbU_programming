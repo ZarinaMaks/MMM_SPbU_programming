{
  "cells":[
    {
      "cell_type":"markdown",
      "source":[
        "# Part 1"
      ],
      "metadata":{
        
      }
    },
    {
      "cell_type":"markdown",
      "source":[
        "- ## Loading the dataset"
      ],
      "metadata":{
        
      }
    },
    {
      "cell_type":"code",
      "source":[
        "import numpy as np\n",
        "from numpy.lib.recfunctions import structured_to_unstructured"
      ],
      "execution_count":62,
      "outputs":[
        
      ],
      "metadata":{
        
      }
    },
    {
      "cell_type":"code",
      "source":[
        "data = np.genfromtxt('iris.data', delimiter=\",\", encoding=\"utf8\", dtype=None)\n",
        "features = structured_to_unstructured(data[[\"f0\", \"f1\", \"f2\", \"f3\"]])\n",
        "names = data[\"f4\"]\n",
        "f\"Memory size: {features.nbytes + names.nbytes} bytes\""
      ],
      "execution_count":63,
      "outputs":[
        {
          "data":{
            "text\/plain":[
              "'Memory size: 13800 bytes'"
            ]
          },
          "metadata":{
            
          },
          "output_type":"display_data"
        }
      ],
      "metadata":{
        
      }
    },
    {
      "cell_type":"code",
      "source":[
        "features"
      ],
      "execution_count":64,
      "outputs":[
        {
          "data":{
            "text\/plain":[
              "array([[5.1, 3.5, 1.4, 0.2],\n",
              "       [4.9, 3. , 1.4, 0.2],\n",
              "       [4.7, 3.2, 1.3, 0.2],\n",
              "       [4.6, 3.1, 1.5, 0.2],\n",
              "       [5. , 3.6, 1.4, 0.2],\n",
              "       [5.4, 3.9, 1.7, 0.4],\n",
              "       [4.6, 3.4, 1.4, 0.3],\n",
              "       [5. , 3.4, 1.5, 0.2],\n",
              "       [4.4, 2.9, 1.4, 0.2],\n",
              "       [4.9, 3.1, 1.5, 0.1],\n",
              "       [5.4, 3.7, 1.5, 0.2],\n",
              "       [4.8, 3.4, 1.6, 0.2],\n",
              "       [4.8, 3. , 1.4, 0.1],\n",
              "       [4.3, 3. , 1.1, 0.1],\n",
              "       [5.8, 4. , 1.2, 0.2],\n",
              "       [5.7, 4.4, 1.5, 0.4],\n",
              "       [5.4, 3.9, 1.3, 0.4],\n",
              "       [5.1, 3.5, 1.4, 0.3],\n",
              "       [5.7, 3.8, 1.7, 0.3],\n",
              "       [5.1, 3.8, 1.5, 0.3],\n",
              "       [5.4, 3.4, 1.7, 0.2],\n",
              "       [5.1, 3.7, 1.5, 0.4],\n",
              "       [4.6, 3.6, 1. , 0.2],\n",
              "       [5.1, 3.3, 1.7, 0.5],\n",
              "       [4.8, 3.4, 1.9, 0.2],\n",
              "       [5. , 3. , 1.6, 0.2],\n",
              "       [5. , 3.4, 1.6, 0.4],\n",
              "       [5.2, 3.5, 1.5, 0.2],\n",
              "       [5.2, 3.4, 1.4, 0.2],\n",
              "       [4.7, 3.2, 1.6, 0.2],\n",
              "       [4.8, 3.1, 1.6, 0.2],\n",
              "       [5.4, 3.4, 1.5, 0.4],\n",
              "       [5.2, 4.1, 1.5, 0.1],\n",
              "       [5.5, 4.2, 1.4, 0.2],\n",
              "       [4.9, 3.1, 1.5, 0.1],\n",
              "       [5. , 3.2, 1.2, 0.2],\n",
              "       [5.5, 3.5, 1.3, 0.2],\n",
              "       [4.9, 3.1, 1.5, 0.1],\n",
              "       [4.4, 3. , 1.3, 0.2],\n",
              "       [5.1, 3.4, 1.5, 0.2],\n",
              "       [5. , 3.5, 1.3, 0.3],\n",
              "       [4.5, 2.3, 1.3, 0.3],\n",
              "       [4.4, 3.2, 1.3, 0.2],\n",
              "       [5. , 3.5, 1.6, 0.6],\n",
              "       [5.1, 3.8, 1.9, 0.4],\n",
              "       [4.8, 3. , 1.4, 0.3],\n",
              "       [5.1, 3.8, 1.6, 0.2],\n",
              "       [4.6, 3.2, 1.4, 0.2],\n",
              "       [5.3, 3.7, 1.5, 0.2],\n",
              "       [5. , 3.3, 1.4, 0.2],\n",
              "       [7. , 3.2, 4.7, 1.4],\n",
              "       [6.4, 3.2, 4.5, 1.5],\n",
              "       [6.9, 3.1, 4.9, 1.5],\n",
              "       [5.5, 2.3, 4. , 1.3],\n",
              "       [6.5, 2.8, 4.6, 1.5],\n",
              "       [5.7, 2.8, 4.5, 1.3],\n",
              "       [6.3, 3.3, 4.7, 1.6],\n",
              "       [4.9, 2.4, 3.3, 1. ],\n",
              "       [6.6, 2.9, 4.6, 1.3],\n",
              "       [5.2, 2.7, 3.9, 1.4],\n",
              "       [5. , 2. , 3.5, 1. ],\n",
              "       [5.9, 3. , 4.2, 1.5],\n",
              "       [6. , 2.2, 4. , 1. ],\n",
              "       [6.1, 2.9, 4.7, 1.4],\n",
              "       [5.6, 2.9, 3.6, 1.3],\n",
              "       [6.7, 3.1, 4.4, 1.4],\n",
              "       [5.6, 3. , 4.5, 1.5],\n",
              "       [5.8, 2.7, 4.1, 1. ],\n",
              "       [6.2, 2.2, 4.5, 1.5],\n",
              "       [5.6, 2.5, 3.9, 1.1],\n",
              "       [5.9, 3.2, 4.8, 1.8],\n",
              "       [6.1, 2.8, 4. , 1.3],\n",
              "       [6.3, 2.5, 4.9, 1.5],\n",
              "       [6.1, 2.8, 4.7, 1.2],\n",
              "       [6.4, 2.9, 4.3, 1.3],\n",
              "       [6.6, 3. , 4.4, 1.4],\n",
              "       [6.8, 2.8, 4.8, 1.4],\n",
              "       [6.7, 3. , 5. , 1.7],\n",
              "       [6. , 2.9, 4.5, 1.5],\n",
              "       [5.7, 2.6, 3.5, 1. ],\n",
              "       [5.5, 2.4, 3.8, 1.1],\n",
              "       [5.5, 2.4, 3.7, 1. ],\n",
              "       [5.8, 2.7, 3.9, 1.2],\n",
              "       [6. , 2.7, 5.1, 1.6],\n",
              "       [5.4, 3. , 4.5, 1.5],\n",
              "       [6. , 3.4, 4.5, 1.6],\n",
              "       [6.7, 3.1, 4.7, 1.5],\n",
              "       [6.3, 2.3, 4.4, 1.3],\n",
              "       [5.6, 3. , 4.1, 1.3],\n",
              "       [5.5, 2.5, 4. , 1.3],\n",
              "       [5.5, 2.6, 4.4, 1.2],\n",
              "       [6.1, 3. , 4.6, 1.4],\n",
              "       [5.8, 2.6, 4. , 1.2],\n",
              "       [5. , 2.3, 3.3, 1. ],\n",
              "       [5.6, 2.7, 4.2, 1.3],\n",
              "       [5.7, 3. , 4.2, 1.2],\n",
              "       [5.7, 2.9, 4.2, 1.3],\n",
              "       [6.2, 2.9, 4.3, 1.3],\n",
              "       [5.1, 2.5, 3. , 1.1],\n",
              "       [5.7, 2.8, 4.1, 1.3],\n",
              "       [6.3, 3.3, 6. , 2.5],\n",
              "       [5.8, 2.7, 5.1, 1.9],\n",
              "       [7.1, 3. , 5.9, 2.1],\n",
              "       [6.3, 2.9, 5.6, 1.8],\n",
              "       [6.5, 3. , 5.8, 2.2],\n",
              "       [7.6, 3. , 6.6, 2.1],\n",
              "       [4.9, 2.5, 4.5, 1.7],\n",
              "       [7.3, 2.9, 6.3, 1.8],\n",
              "       [6.7, 2.5, 5.8, 1.8],\n",
              "       [7.2, 3.6, 6.1, 2.5],\n",
              "       [6.5, 3.2, 5.1, 2. ],\n",
              "       [6.4, 2.7, 5.3, 1.9],\n",
              "       [6.8, 3. , 5.5, 2.1],\n",
              "       [5.7, 2.5, 5. , 2. ],\n",
              "       [5.8, 2.8, 5.1, 2.4],\n",
              "       [6.4, 3.2, 5.3, 2.3],\n",
              "       [6.5, 3. , 5.5, 1.8],\n",
              "       [7.7, 3.8, 6.7, 2.2],\n",
              "       [7.7, 2.6, 6.9, 2.3],\n",
              "       [6. , 2.2, 5. , 1.5],\n",
              "       [6.9, 3.2, 5.7, 2.3],\n",
              "       [5.6, 2.8, 4.9, 2. ],\n",
              "       [7.7, 2.8, 6.7, 2. ],\n",
              "       [6.3, 2.7, 4.9, 1.8],\n",
              "       [6.7, 3.3, 5.7, 2.1],\n",
              "       [7.2, 3.2, 6. , 1.8],\n",
              "       [6.2, 2.8, 4.8, 1.8],\n",
              "       [6.1, 3. , 4.9, 1.8],\n",
              "       [6.4, 2.8, 5.6, 2.1],\n",
              "       [7.2, 3. , 5.8, 1.6],\n",
              "       [7.4, 2.8, 6.1, 1.9],\n",
              "       [7.9, 3.8, 6.4, 2. ],\n",
              "       [6.4, 2.8, 5.6, 2.2],\n",
              "       [6.3, 2.8, 5.1, 1.5],\n",
              "       [6.1, 2.6, 5.6, 1.4],\n",
              "       [7.7, 3. , 6.1, 2.3],\n",
              "       [6.3, 3.4, 5.6, 2.4],\n",
              "       [6.4, 3.1, 5.5, 1.8],\n",
              "       [6. , 3. , 4.8, 1.8],\n",
              "       [6.9, 3.1, 5.4, 2.1],\n",
              "       [6.7, 3.1, 5.6, 2.4],\n",
              "       [6.9, 3.1, 5.1, 2.3],\n",
              "       [5.8, 2.7, 5.1, 1.9],\n",
              "       [6.8, 3.2, 5.9, 2.3],\n",
              "       [6.7, 3.3, 5.7, 2.5],\n",
              "       [6.7, 3. , 5.2, 2.3],\n",
              "       [6.3, 2.5, 5. , 1.9],\n",
              "       [6.5, 3. , 5.2, 2. ],\n",
              "       [6.2, 3.4, 5.4, 2.3],\n",
              "       [5.9, 3. , 5.1, 1.8]])"
            ]
          },
          "metadata":{
            
          },
          "output_type":"display_data"
        }
      ],
      "metadata":{
        
      }
    },
    {
      "cell_type":"markdown",
      "source":[
        "- ## Normalizing"
      ],
      "metadata":{
        
      }
    },
    {
      "cell_type":"code",
      "source":[
        "norm_features = (features - features.min(axis=0)) \/ (features.max(axis=0) - features.min(axis=0))\n",
        "norm_features"
      ],
      "execution_count":65,
      "outputs":[
        {
          "data":{
            "text\/plain":[
              "array([[0.22222222, 0.625     , 0.06779661, 0.04166667],\n",
              "       [0.16666667, 0.41666667, 0.06779661, 0.04166667],\n",
              "       [0.11111111, 0.5       , 0.05084746, 0.04166667],\n",
              "       [0.08333333, 0.45833333, 0.08474576, 0.04166667],\n",
              "       [0.19444444, 0.66666667, 0.06779661, 0.04166667],\n",
              "       [0.30555556, 0.79166667, 0.11864407, 0.125     ],\n",
              "       [0.08333333, 0.58333333, 0.06779661, 0.08333333],\n",
              "       [0.19444444, 0.58333333, 0.08474576, 0.04166667],\n",
              "       [0.02777778, 0.375     , 0.06779661, 0.04166667],\n",
              "       [0.16666667, 0.45833333, 0.08474576, 0.        ],\n",
              "       [0.30555556, 0.70833333, 0.08474576, 0.04166667],\n",
              "       [0.13888889, 0.58333333, 0.10169492, 0.04166667],\n",
              "       [0.13888889, 0.41666667, 0.06779661, 0.        ],\n",
              "       [0.        , 0.41666667, 0.01694915, 0.        ],\n",
              "       [0.41666667, 0.83333333, 0.03389831, 0.04166667],\n",
              "       [0.38888889, 1.        , 0.08474576, 0.125     ],\n",
              "       [0.30555556, 0.79166667, 0.05084746, 0.125     ],\n",
              "       [0.22222222, 0.625     , 0.06779661, 0.08333333],\n",
              "       [0.38888889, 0.75      , 0.11864407, 0.08333333],\n",
              "       [0.22222222, 0.75      , 0.08474576, 0.08333333],\n",
              "       [0.30555556, 0.58333333, 0.11864407, 0.04166667],\n",
              "       [0.22222222, 0.70833333, 0.08474576, 0.125     ],\n",
              "       [0.08333333, 0.66666667, 0.        , 0.04166667],\n",
              "       [0.22222222, 0.54166667, 0.11864407, 0.16666667],\n",
              "       [0.13888889, 0.58333333, 0.15254237, 0.04166667],\n",
              "       [0.19444444, 0.41666667, 0.10169492, 0.04166667],\n",
              "       [0.19444444, 0.58333333, 0.10169492, 0.125     ],\n",
              "       [0.25      , 0.625     , 0.08474576, 0.04166667],\n",
              "       [0.25      , 0.58333333, 0.06779661, 0.04166667],\n",
              "       [0.11111111, 0.5       , 0.10169492, 0.04166667],\n",
              "       [0.13888889, 0.45833333, 0.10169492, 0.04166667],\n",
              "       [0.30555556, 0.58333333, 0.08474576, 0.125     ],\n",
              "       [0.25      , 0.875     , 0.08474576, 0.        ],\n",
              "       [0.33333333, 0.91666667, 0.06779661, 0.04166667],\n",
              "       [0.16666667, 0.45833333, 0.08474576, 0.        ],\n",
              "       [0.19444444, 0.5       , 0.03389831, 0.04166667],\n",
              "       [0.33333333, 0.625     , 0.05084746, 0.04166667],\n",
              "       [0.16666667, 0.45833333, 0.08474576, 0.        ],\n",
              "       [0.02777778, 0.41666667, 0.05084746, 0.04166667],\n",
              "       [0.22222222, 0.58333333, 0.08474576, 0.04166667],\n",
              "       [0.19444444, 0.625     , 0.05084746, 0.08333333],\n",
              "       [0.05555556, 0.125     , 0.05084746, 0.08333333],\n",
              "       [0.02777778, 0.5       , 0.05084746, 0.04166667],\n",
              "       [0.19444444, 0.625     , 0.10169492, 0.20833333],\n",
              "       [0.22222222, 0.75      , 0.15254237, 0.125     ],\n",
              "       [0.13888889, 0.41666667, 0.06779661, 0.08333333],\n",
              "       [0.22222222, 0.75      , 0.10169492, 0.04166667],\n",
              "       [0.08333333, 0.5       , 0.06779661, 0.04166667],\n",
              "       [0.27777778, 0.70833333, 0.08474576, 0.04166667],\n",
              "       [0.19444444, 0.54166667, 0.06779661, 0.04166667],\n",
              "       [0.75      , 0.5       , 0.62711864, 0.54166667],\n",
              "       [0.58333333, 0.5       , 0.59322034, 0.58333333],\n",
              "       [0.72222222, 0.45833333, 0.66101695, 0.58333333],\n",
              "       [0.33333333, 0.125     , 0.50847458, 0.5       ],\n",
              "       [0.61111111, 0.33333333, 0.61016949, 0.58333333],\n",
              "       [0.38888889, 0.33333333, 0.59322034, 0.5       ],\n",
              "       [0.55555556, 0.54166667, 0.62711864, 0.625     ],\n",
              "       [0.16666667, 0.16666667, 0.38983051, 0.375     ],\n",
              "       [0.63888889, 0.375     , 0.61016949, 0.5       ],\n",
              "       [0.25      , 0.29166667, 0.49152542, 0.54166667],\n",
              "       [0.19444444, 0.        , 0.42372881, 0.375     ],\n",
              "       [0.44444444, 0.41666667, 0.54237288, 0.58333333],\n",
              "       [0.47222222, 0.08333333, 0.50847458, 0.375     ],\n",
              "       [0.5       , 0.375     , 0.62711864, 0.54166667],\n",
              "       [0.36111111, 0.375     , 0.44067797, 0.5       ],\n",
              "       [0.66666667, 0.45833333, 0.57627119, 0.54166667],\n",
              "       [0.36111111, 0.41666667, 0.59322034, 0.58333333],\n",
              "       [0.41666667, 0.29166667, 0.52542373, 0.375     ],\n",
              "       [0.52777778, 0.08333333, 0.59322034, 0.58333333],\n",
              "       [0.36111111, 0.20833333, 0.49152542, 0.41666667],\n",
              "       [0.44444444, 0.5       , 0.6440678 , 0.70833333],\n",
              "       [0.5       , 0.33333333, 0.50847458, 0.5       ],\n",
              "       [0.55555556, 0.20833333, 0.66101695, 0.58333333],\n",
              "       [0.5       , 0.33333333, 0.62711864, 0.45833333],\n",
              "       [0.58333333, 0.375     , 0.55932203, 0.5       ],\n",
              "       [0.63888889, 0.41666667, 0.57627119, 0.54166667],\n",
              "       [0.69444444, 0.33333333, 0.6440678 , 0.54166667],\n",
              "       [0.66666667, 0.41666667, 0.6779661 , 0.66666667],\n",
              "       [0.47222222, 0.375     , 0.59322034, 0.58333333],\n",
              "       [0.38888889, 0.25      , 0.42372881, 0.375     ],\n",
              "       [0.33333333, 0.16666667, 0.47457627, 0.41666667],\n",
              "       [0.33333333, 0.16666667, 0.45762712, 0.375     ],\n",
              "       [0.41666667, 0.29166667, 0.49152542, 0.45833333],\n",
              "       [0.47222222, 0.29166667, 0.69491525, 0.625     ],\n",
              "       [0.30555556, 0.41666667, 0.59322034, 0.58333333],\n",
              "       [0.47222222, 0.58333333, 0.59322034, 0.625     ],\n",
              "       [0.66666667, 0.45833333, 0.62711864, 0.58333333],\n",
              "       [0.55555556, 0.125     , 0.57627119, 0.5       ],\n",
              "       [0.36111111, 0.41666667, 0.52542373, 0.5       ],\n",
              "       [0.33333333, 0.20833333, 0.50847458, 0.5       ],\n",
              "       [0.33333333, 0.25      , 0.57627119, 0.45833333],\n",
              "       [0.5       , 0.41666667, 0.61016949, 0.54166667],\n",
              "       [0.41666667, 0.25      , 0.50847458, 0.45833333],\n",
              "       [0.19444444, 0.125     , 0.38983051, 0.375     ],\n",
              "       [0.36111111, 0.29166667, 0.54237288, 0.5       ],\n",
              "       [0.38888889, 0.41666667, 0.54237288, 0.45833333],\n",
              "       [0.38888889, 0.375     , 0.54237288, 0.5       ],\n",
              "       [0.52777778, 0.375     , 0.55932203, 0.5       ],\n",
              "       [0.22222222, 0.20833333, 0.33898305, 0.41666667],\n",
              "       [0.38888889, 0.33333333, 0.52542373, 0.5       ],\n",
              "       [0.55555556, 0.54166667, 0.84745763, 1.        ],\n",
              "       [0.41666667, 0.29166667, 0.69491525, 0.75      ],\n",
              "       [0.77777778, 0.41666667, 0.83050847, 0.83333333],\n",
              "       [0.55555556, 0.375     , 0.77966102, 0.70833333],\n",
              "       [0.61111111, 0.41666667, 0.81355932, 0.875     ],\n",
              "       [0.91666667, 0.41666667, 0.94915254, 0.83333333],\n",
              "       [0.16666667, 0.20833333, 0.59322034, 0.66666667],\n",
              "       [0.83333333, 0.375     , 0.89830508, 0.70833333],\n",
              "       [0.66666667, 0.20833333, 0.81355932, 0.70833333],\n",
              "       [0.80555556, 0.66666667, 0.86440678, 1.        ],\n",
              "       [0.61111111, 0.5       , 0.69491525, 0.79166667],\n",
              "       [0.58333333, 0.29166667, 0.72881356, 0.75      ],\n",
              "       [0.69444444, 0.41666667, 0.76271186, 0.83333333],\n",
              "       [0.38888889, 0.20833333, 0.6779661 , 0.79166667],\n",
              "       [0.41666667, 0.33333333, 0.69491525, 0.95833333],\n",
              "       [0.58333333, 0.5       , 0.72881356, 0.91666667],\n",
              "       [0.61111111, 0.41666667, 0.76271186, 0.70833333],\n",
              "       [0.94444444, 0.75      , 0.96610169, 0.875     ],\n",
              "       [0.94444444, 0.25      , 1.        , 0.91666667],\n",
              "       [0.47222222, 0.08333333, 0.6779661 , 0.58333333],\n",
              "       [0.72222222, 0.5       , 0.79661017, 0.91666667],\n",
              "       [0.36111111, 0.33333333, 0.66101695, 0.79166667],\n",
              "       [0.94444444, 0.33333333, 0.96610169, 0.79166667],\n",
              "       [0.55555556, 0.29166667, 0.66101695, 0.70833333],\n",
              "       [0.66666667, 0.54166667, 0.79661017, 0.83333333],\n",
              "       [0.80555556, 0.5       , 0.84745763, 0.70833333],\n",
              "       [0.52777778, 0.33333333, 0.6440678 , 0.70833333],\n",
              "       [0.5       , 0.41666667, 0.66101695, 0.70833333],\n",
              "       [0.58333333, 0.33333333, 0.77966102, 0.83333333],\n",
              "       [0.80555556, 0.41666667, 0.81355932, 0.625     ],\n",
              "       [0.86111111, 0.33333333, 0.86440678, 0.75      ],\n",
              "       [1.        , 0.75      , 0.91525424, 0.79166667],\n",
              "       [0.58333333, 0.33333333, 0.77966102, 0.875     ],\n",
              "       [0.55555556, 0.33333333, 0.69491525, 0.58333333],\n",
              "       [0.5       , 0.25      , 0.77966102, 0.54166667],\n",
              "       [0.94444444, 0.41666667, 0.86440678, 0.91666667],\n",
              "       [0.55555556, 0.58333333, 0.77966102, 0.95833333],\n",
              "       [0.58333333, 0.45833333, 0.76271186, 0.70833333],\n",
              "       [0.47222222, 0.41666667, 0.6440678 , 0.70833333],\n",
              "       [0.72222222, 0.45833333, 0.74576271, 0.83333333],\n",
              "       [0.66666667, 0.45833333, 0.77966102, 0.95833333],\n",
              "       [0.72222222, 0.45833333, 0.69491525, 0.91666667],\n",
              "       [0.41666667, 0.29166667, 0.69491525, 0.75      ],\n",
              "       [0.69444444, 0.5       , 0.83050847, 0.91666667],\n",
              "       [0.66666667, 0.54166667, 0.79661017, 1.        ],\n",
              "       [0.66666667, 0.41666667, 0.71186441, 0.91666667],\n",
              "       [0.55555556, 0.20833333, 0.6779661 , 0.75      ],\n",
              "       [0.61111111, 0.41666667, 0.71186441, 0.79166667],\n",
              "       [0.52777778, 0.58333333, 0.74576271, 0.91666667],\n",
              "       [0.44444444, 0.41666667, 0.69491525, 0.70833333]])"
            ]
          },
          "metadata":{
            
          },
          "output_type":"display_data"
        }
      ],
      "metadata":{
        
      }
    },
    {
      "cell_type":"markdown",
      "source":[
        "- ## Defining fourth feature as a categorical variable"
      ],
      "metadata":{
        
      }
    },
    {
      "cell_type":"code",
      "source":[
        "first_q = np.quantile(norm_features[3], 0.25)\n",
        "second_q = np.quantile(norm_features[3], 0.75)\n",
        "\n",
        "fc = norm_features[:,3]\n",
        "third_feature_column = np.where(fc < first_q, \"small\", np.where(fc > second_q, \"big\", \"medium\"))\n",
        "third_feature_column"
      ],
      "execution_count":66,
      "outputs":[
        {
          "data":{
            "text\/plain":[
              "array(['small', 'small', 'small', 'small', 'small', 'medium', 'medium',\n",
              "       'small', 'small', 'small', 'small', 'small', 'small', 'small',\n",
              "       'small', 'medium', 'medium', 'medium', 'medium', 'medium', 'small',\n",
              "       'medium', 'small', 'medium', 'small', 'small', 'medium', 'small',\n",
              "       'small', 'small', 'small', 'medium', 'small', 'small', 'small',\n",
              "       'small', 'small', 'small', 'small', 'small', 'medium', 'medium',\n",
              "       'small', 'big', 'medium', 'medium', 'small', 'small', 'small',\n",
              "       'small', 'big', 'big', 'big', 'big', 'big', 'big', 'big', 'big',\n",
              "       'big', 'big', 'big', 'big', 'big', 'big', 'big', 'big', 'big',\n",
              "       'big', 'big', 'big', 'big', 'big', 'big', 'big', 'big', 'big',\n",
              "       'big', 'big', 'big', 'big', 'big', 'big', 'big', 'big', 'big',\n",
              "       'big', 'big', 'big', 'big', 'big', 'big', 'big', 'big', 'big',\n",
              "       'big', 'big', 'big', 'big', 'big', 'big', 'big', 'big', 'big',\n",
              "       'big', 'big', 'big', 'big', 'big', 'big', 'big', 'big', 'big',\n",
              "       'big', 'big', 'big', 'big', 'big', 'big', 'big', 'big', 'big',\n",
              "       'big', 'big', 'big', 'big', 'big', 'big', 'big', 'big', 'big',\n",
              "       'big', 'big', 'big', 'big', 'big', 'big', 'big', 'big', 'big',\n",
              "       'big', 'big', 'big', 'big', 'big', 'big', 'big', 'big', 'big',\n",
              "       'big', 'big'], dtype='<U6')"
            ]
          },
          "metadata":{
            
          },
          "output_type":"display_data"
        }
      ],
      "metadata":{
        
      }
    },
    {
      "cell_type":"markdown",
      "source":[
        "- ## Splitting dataset into two"
      ],
      "metadata":{
        
      }
    },
    {
      "cell_type":"code",
      "source":[
        "def get_sets(f, n):\n",
        "    indices = np.random.permutation(f.shape[0])\n",
        "    train_percentage = int(f.shape[0] * 0.8)\n",
        "    training_idx, test_idx = indices[:train_percentage], indices[train_percentage:]\n",
        "\n",
        "    training_features, training_names = f[training_idx], n[training_idx]\n",
        "    test_features, test_names = f[test_idx], n[test_idx]\n",
        "    return training_features, training_names, test_features, test_names"
      ],
      "execution_count":67,
      "outputs":[
        
      ],
      "metadata":{
        
      }
    },
    {
      "cell_type":"code",
      "source":[
        "tr_f, tr_n, te_f, te_n = get_sets(features, names)\n",
        "f\"{tr_f.shape[0]} rows in training set, {te_f.shape[0]} rows in testing set\""
      ],
      "execution_count":68,
      "outputs":[
        {
          "data":{
            "text\/plain":[
              "'120 rows in training set, 30 rows in testing set'"
            ]
          },
          "metadata":{
            
          },
          "output_type":"display_data"
        }
      ],
      "metadata":{
        
      }
    },
    {
      "cell_type":"markdown",
      "source":[
        "# Part 2"
      ],
      "metadata":{
        
      }
    },
    {
      "cell_type":"markdown",
      "source":[
        "- ## Data classification (testing classifier SVC on various selections)"
      ],
      "metadata":{
        
      }
    },
    {
      "cell_type":"code",
      "source":[
        "import sklearn as sk\n",
        "from sklearn import svm"
      ],
      "execution_count":69,
      "outputs":[
        
      ],
      "metadata":{
        
      }
    },
    {
      "cell_type":"code",
      "source":[
        "def get_stats(expected, actual):\n",
        "    wrong_predictions = [f\"Expected: {w}, actual {c}\" for w,c in dict(zip(expected, actual)).items() if w != c]\n",
        "    accuracy = (len(expected) - len(wrong_predictions)) \/ len(expected)\n",
        "    return wrong_predictions, accuracy"
      ],
      "execution_count":70,
      "outputs":[
        
      ],
      "metadata":{
        
      }
    },
    {
      "cell_type":"code",
      "source":[
        "def test_classifier(clf, num_of_tests=20):\n",
        "    np.random.seed(42)\n",
        "    for i in range(num_of_tests):\n",
        "        train_f, train_n, test_f, test_n = get_sets(features, names)\n",
        "        clf = sk.base.clone(clf)\n",
        "        clf.fit(train_f, train_n)\n",
        "        wp, score = get_stats(test_n, clf.predict(test_f))\n",
        "        print(f\"Iteration: {i}\\n Wrong predictions: {wp}\\n Score: {score}\\n\")\n",
        "\n",
        "test_classifier(svm.SVC(), 100)"
      ],
      "execution_count":71,
      "outputs":[
        {
          "name":"stdout",
          "text":[
            "Iteration: 0\n",
            " Wrong predictions: []\n",
            " Score: 1.0\n",
            "\n",
            "Iteration: 1\n",
            " Wrong predictions: []\n",
            " Score: 1.0\n",
            "\n",
            "Iteration: 2\n",
            " Wrong predictions: []\n",
            " Score: 1.0\n",
            "\n",
            "Iteration: 3\n",
            " Wrong predictions: []\n",
            " Score: 1.0\n",
            "\n",
            "Iteration: 4\n",
            " Wrong predictions: ['Expected: Iris-versicolor, actual Iris-virginica']\n",
            " Score: 0.9666666666666667\n",
            "\n",
            "Iteration: 5\n",
            " Wrong predictions: []\n",
            " Score: 1.0\n",
            "\n",
            "Iteration: 6\n",
            " Wrong predictions: []\n",
            " Score: 1.0\n",
            "\n",
            "Iteration: 7\n",
            " Wrong predictions: []\n",
            " Score: 1.0\n",
            "\n",
            "Iteration: 8\n",
            " Wrong predictions: []\n",
            " Score: 1.0\n",
            "\n",
            "Iteration: 9\n",
            " Wrong predictions: []\n",
            " Score: 1.0\n",
            "\n",
            "Iteration: 10\n",
            " Wrong predictions: []\n",
            " Score: 1.0\n",
            "\n",
            "Iteration: 11\n",
            " Wrong predictions: []\n",
            " Score: 1.0\n",
            "\n",
            "Iteration: 12\n",
            " Wrong predictions: []\n",
            " Score: 1.0\n",
            "\n",
            "Iteration: 13\n",
            " Wrong predictions: []\n",
            " Score: 1.0\n",
            "\n",
            "Iteration: 14\n",
            " Wrong predictions: []\n",
            " Score: 1.0\n",
            "\n",
            "Iteration: 15\n",
            " Wrong predictions: []\n",
            " Score: 1.0\n",
            "\n",
            "Iteration: 16\n",
            " Wrong predictions: []\n",
            " Score: 1.0\n",
            "\n",
            "Iteration: 17\n",
            " Wrong predictions: ['Expected: Iris-virginica, actual Iris-versicolor']\n",
            " Score: 0.9666666666666667\n",
            "\n",
            "Iteration: 18\n",
            " Wrong predictions: []\n",
            " Score: 1.0\n",
            "\n",
            "Iteration: 19\n",
            " Wrong predictions: []\n",
            " Score: 1.0\n",
            "\n",
            "Iteration: 20\n",
            " Wrong predictions: []\n",
            " Score: 1.0\n",
            "\n",
            "Iteration: 21\n",
            " Wrong predictions: []\n",
            " Score: 1.0\n",
            "\n",
            "Iteration: 22\n",
            " Wrong predictions: []\n",
            " Score: 1.0\n",
            "\n",
            "Iteration: 23\n",
            " Wrong predictions: ['Expected: Iris-virginica, actual Iris-versicolor']\n",
            " Score: 0.9666666666666667\n",
            "\n",
            "Iteration: 24\n",
            " Wrong predictions: []\n",
            " Score: 1.0\n",
            "\n",
            "Iteration: 25\n",
            " Wrong predictions: []\n",
            " Score: 1.0\n",
            "\n",
            "Iteration: 26\n",
            " Wrong predictions: []\n",
            " Score: 1.0\n",
            "\n",
            "Iteration: 27\n",
            " Wrong predictions: ['Expected: Iris-versicolor, actual Iris-virginica']\n",
            " Score: 0.9666666666666667\n",
            "\n",
            "Iteration: 28\n",
            " Wrong predictions: []\n",
            " Score: 1.0\n",
            "\n",
            "Iteration: 29\n",
            " Wrong predictions: []\n",
            " Score: 1.0\n",
            "\n",
            "Iteration: 30\n",
            " Wrong predictions: []\n",
            " Score: 1.0\n",
            "\n",
            "Iteration: 31\n",
            " Wrong predictions: []\n",
            " Score: 1.0\n",
            "\n",
            "Iteration: 32\n",
            " Wrong predictions: []\n",
            " Score: 1.0\n",
            "\n",
            "Iteration: 33\n",
            " Wrong predictions: []\n",
            " Score: 1.0\n",
            "\n",
            "Iteration: 34\n",
            " Wrong predictions: ['Expected: Iris-virginica, actual Iris-versicolor']\n",
            " Score: 0.9666666666666667\n",
            "\n",
            "Iteration: 35\n",
            " Wrong predictions: []\n",
            " Score: 1.0\n",
            "\n",
            "Iteration: 36\n",
            " Wrong predictions: ['Expected: Iris-virginica, actual Iris-versicolor']\n",
            " Score: 0.9666666666666667\n",
            "\n",
            "Iteration: 37\n",
            " Wrong predictions: []\n",
            " Score: 1.0\n",
            "\n",
            "Iteration: 38\n",
            " Wrong predictions: []\n",
            " Score: 1.0\n",
            "\n",
            "Iteration: 39\n",
            " Wrong predictions: []\n",
            " Score: 1.0\n",
            "\n",
            "Iteration: 40\n",
            " Wrong predictions: []\n",
            " Score: 1.0\n",
            "\n",
            "Iteration: 41\n",
            " Wrong predictions: []\n",
            " Score: 1.0\n",
            "\n",
            "Iteration: 42\n",
            " Wrong predictions: []\n",
            " Score: 1.0\n",
            "\n",
            "Iteration: 43\n",
            " Wrong predictions: []\n",
            " Score: 1.0\n",
            "\n",
            "Iteration: 44\n",
            " Wrong predictions: []\n",
            " Score: 1.0\n",
            "\n",
            "Iteration: 45\n",
            " Wrong predictions: []\n",
            " Score: 1.0\n",
            "\n",
            "Iteration: 46\n",
            " Wrong predictions: []\n",
            " Score: 1.0\n",
            "\n",
            "Iteration: 47\n",
            " Wrong predictions: []\n",
            " Score: 1.0\n",
            "\n",
            "Iteration: 48\n",
            " Wrong predictions: []\n",
            " Score: 1.0\n",
            "\n",
            "Iteration: 49\n",
            " Wrong predictions: []\n",
            " Score: 1.0\n",
            "\n",
            "Iteration: 50\n",
            " Wrong predictions: []\n",
            " Score: 1.0\n",
            "\n",
            "Iteration: 51\n",
            " Wrong predictions: ['Expected: Iris-versicolor, actual Iris-virginica']\n",
            " Score: 0.9666666666666667\n",
            "\n",
            "Iteration: 52\n",
            " Wrong predictions: []\n",
            " Score: 1.0\n",
            "\n",
            "Iteration: 53\n",
            " Wrong predictions: []\n",
            " Score: 1.0\n",
            "\n",
            "Iteration: 54\n",
            " Wrong predictions: []\n",
            " Score: 1.0\n",
            "\n",
            "Iteration: 55\n",
            " Wrong predictions: []\n",
            " Score: 1.0\n",
            "\n",
            "Iteration: 56\n",
            " Wrong predictions: ['Expected: Iris-versicolor, actual Iris-virginica']\n",
            " Score: 0.9666666666666667\n",
            "\n",
            "Iteration: 57\n",
            " Wrong predictions: []\n",
            " Score: 1.0\n",
            "\n",
            "Iteration: 58\n",
            " Wrong predictions: []\n",
            " Score: 1.0\n",
            "\n",
            "Iteration: 59\n",
            " Wrong predictions: ['Expected: Iris-virginica, actual Iris-versicolor']\n",
            " Score: 0.9666666666666667\n",
            "\n",
            "Iteration: 60\n",
            " Wrong predictions: ['Expected: Iris-versicolor, actual Iris-virginica']\n",
            " Score: 0.9666666666666667\n",
            "\n",
            "Iteration: 61\n",
            " Wrong predictions: []\n",
            " Score: 1.0\n",
            "\n",
            "Iteration: 62\n",
            " Wrong predictions: []\n",
            " Score: 1.0\n",
            "\n",
            "Iteration: 63\n",
            " Wrong predictions: []\n",
            " Score: 1.0\n",
            "\n",
            "Iteration: 64\n",
            " Wrong predictions: []\n",
            " Score: 1.0\n",
            "\n",
            "Iteration: 65\n",
            " Wrong predictions: []\n",
            " Score: 1.0\n",
            "\n",
            "Iteration: 66\n",
            " Wrong predictions: []\n",
            " Score: 1.0\n",
            "\n",
            "Iteration: 67\n",
            " Wrong predictions: ['Expected: Iris-virginica, actual Iris-versicolor']\n",
            " Score: 0.9666666666666667\n",
            "\n",
            "Iteration: 68\n",
            " Wrong predictions: []\n",
            " Score: 1.0\n",
            "\n",
            "Iteration: 69\n",
            " Wrong predictions: ['Expected: Iris-virginica, actual Iris-versicolor']\n",
            " Score: 0.9666666666666667\n",
            "\n",
            "Iteration: 70\n",
            " Wrong predictions: []\n",
            " Score: 1.0\n",
            "\n",
            "Iteration: 71\n",
            " Wrong predictions: []\n",
            " Score: 1.0\n",
            "\n",
            "Iteration: 72\n",
            " Wrong predictions: []\n",
            " Score: 1.0\n",
            "\n",
            "Iteration: 73\n",
            " Wrong predictions: []\n",
            " Score: 1.0\n",
            "\n",
            "Iteration: 74\n",
            " Wrong predictions: []\n",
            " Score: 1.0\n",
            "\n",
            "Iteration: 75\n",
            " Wrong predictions: []\n",
            " Score: 1.0\n",
            "\n",
            "Iteration: 76\n",
            " Wrong predictions: []\n",
            " Score: 1.0\n",
            "\n",
            "Iteration: 77\n",
            " Wrong predictions: []\n",
            " Score: 1.0\n",
            "\n",
            "Iteration: 78\n",
            " Wrong predictions: []\n",
            " Score: 1.0\n",
            "\n",
            "Iteration: 79\n",
            " Wrong predictions: []\n",
            " Score: 1.0\n",
            "\n",
            "Iteration: 80\n",
            " Wrong predictions: []\n",
            " Score: 1.0\n",
            "\n",
            "Iteration: 81\n",
            " Wrong predictions: []\n",
            " Score: 1.0\n",
            "\n",
            "Iteration: 82\n",
            " Wrong predictions: []\n",
            " Score: 1.0\n",
            "\n",
            "Iteration: 83\n",
            " Wrong predictions: []\n",
            " Score: 1.0\n",
            "\n",
            "Iteration: 84\n",
            " Wrong predictions: []\n",
            " Score: 1.0\n",
            "\n",
            "Iteration: 85\n",
            " Wrong predictions: []\n",
            " Score: 1.0\n",
            "\n",
            "Iteration: 86\n",
            " Wrong predictions: []\n",
            " Score: 1.0\n",
            "\n",
            "Iteration: 87\n",
            " Wrong predictions: []\n",
            " Score: 1.0\n",
            "\n",
            "Iteration: 88\n",
            " Wrong predictions: []\n",
            " Score: 1.0\n",
            "\n",
            "Iteration: 89\n",
            " Wrong predictions: []\n",
            " Score: 1.0\n",
            "\n",
            "Iteration: 90\n",
            " Wrong predictions: []\n",
            " Score: 1.0\n",
            "\n",
            "Iteration: 91\n",
            " Wrong predictions: ['Expected: Iris-versicolor, actual Iris-virginica']\n",
            " Score: 0.9666666666666667\n",
            "\n",
            "Iteration: 92\n",
            " Wrong predictions: []\n",
            " Score: 1.0\n",
            "\n",
            "Iteration: 93\n",
            " Wrong predictions: []\n",
            " Score: 1.0\n",
            "\n",
            "Iteration: 94\n",
            " Wrong predictions: []\n",
            " Score: 1.0\n",
            "\n",
            "Iteration: 95\n",
            " Wrong predictions: []\n",
            " Score: 1.0\n",
            "\n",
            "Iteration: 96\n",
            " Wrong predictions: []\n",
            " Score: 1.0\n",
            "\n",
            "Iteration: 97\n",
            " Wrong predictions: []\n",
            " Score: 1.0\n",
            "\n",
            "Iteration: 98\n",
            " Wrong predictions: []\n",
            " Score: 1.0\n",
            "\n",
            "Iteration: 99\n",
            " Wrong predictions: []\n",
            " Score: 1.0\n",
            "\n"
          ],
          "output_type":"stream"
        }
      ],
      "metadata":{
        
      }
    },
    {
      "cell_type":"markdown",
      "source":[
        "**The classifier was tested on several samples of the same dataset. Average accuracy: 0.9 - 1. Most often the classifier confuses \"Iris-virginica\" and \"Iris-versicolor\".**"
      ],
      "metadata":{
        
      }
    },
    {
      "cell_type":"markdown",
      "source":[
        "- ## Experiments with hyperparameters\n",
        "  Testing different kernels with different parameters"
      ],
      "metadata":{
        
      }
    },
    {
      "cell_type":"code",
      "source":[
        "def get_average_score(clf, num_of_tests=1000, normalized=True):\n",
        "    np.random.seed(42)\n",
        "    clf = sk.base.clone(clf)\n",
        "    points = 0\n",
        "    f = norm_features if normalized else features\n",
        "    for i in range(num_of_tests):\n",
        "        train_f, train_n, test_f, test_n = get_sets(f, names)\n",
        "        clf.fit(train_f, train_n)\n",
        "        points += clf.score(test_f, test_n)\n",
        "    return points \/ num_of_tests"
      ],
      "execution_count":72,
      "outputs":[
        
      ],
      "metadata":{
        
      }
    },
    {
      "cell_type":"markdown",
      "source":[
        "### 1. Testing rbf kernel"
      ],
      "metadata":{
        
      }
    },
    {
      "cell_type":"code",
      "source":[
        "get_average_score(svm.SVC(C=1, kernel='rbf'), normalized=True)"
      ],
      "execution_count":73,
      "outputs":[
        {
          "data":{
            "text\/plain":[
              "0.9590999999999961"
            ]
          },
          "metadata":{
            
          },
          "output_type":"display_data"
        }
      ],
      "metadata":{
        
      }
    },
    {
      "cell_type":"code",
      "source":[
        "get_average_score(svm.SVC(C=1, kernel=\"rbf\"), normalized=False) "
      ],
      "execution_count":74,
      "outputs":[
        {
          "data":{
            "text\/plain":[
              "0.9608666666666629"
            ]
          },
          "metadata":{
            
          },
          "output_type":"display_data"
        }
      ],
      "metadata":{
        
      }
    },
    {
      "cell_type":"code",
      "source":[
        "get_average_score(svm.SVC(C=0.7, kernel=\"rbf\"), normalized=True)"
      ],
      "execution_count":75,
      "outputs":[
        {
          "data":{
            "text\/plain":[
              "0.957966666666662"
            ]
          },
          "metadata":{
            
          },
          "output_type":"display_data"
        }
      ],
      "metadata":{
        
      }
    },
    {
      "cell_type":"code",
      "source":[
        "get_average_score(svm.SVC(C=0.7, kernel=\"rbf\"), normalized=False)"
      ],
      "execution_count":76,
      "outputs":[
        {
          "data":{
            "text\/plain":[
              "0.9564999999999957"
            ]
          },
          "metadata":{
            
          },
          "output_type":"display_data"
        }
      ],
      "metadata":{
        
      }
    },
    {
      "cell_type":"code",
      "source":[
        "get_average_score(svm.SVC(C=0.5, kernel=\"rbf\"), normalized=True)"
      ],
      "execution_count":77,
      "outputs":[
        {
          "data":{
            "text\/plain":[
              "0.9546333333333283"
            ]
          },
          "metadata":{
            
          },
          "output_type":"display_data"
        }
      ],
      "metadata":{
        
      }
    },
    {
      "cell_type":"code",
      "source":[
        "get_average_score(svm.SVC(C=0.5, kernel=\"rbf\"), normalized=False)"
      ],
      "execution_count":78,
      "outputs":[
        {
          "data":{
            "text\/plain":[
              "0.9549666666666619"
            ]
          },
          "metadata":{
            
          },
          "output_type":"display_data"
        }
      ],
      "metadata":{
        
      }
    },
    {
      "cell_type":"markdown",
      "source":[
        "**Conclusion**: Best result without normalization with higher C"
      ],
      "metadata":{
        
      }
    },
    {
      "cell_type":"markdown",
      "source":[
        "### 2. Testing linear kernel"
      ],
      "metadata":{
        
      }
    },
    {
      "cell_type":"code",
      "source":[
        "get_average_score(svm.SVC(C=1, kernel=\"linear\"), normalized=True)"
      ],
      "execution_count":79,
      "outputs":[
        {
          "data":{
            "text\/plain":[
              "0.959266666666663"
            ]
          },
          "metadata":{
            
          },
          "output_type":"display_data"
        }
      ],
      "metadata":{
        
      }
    },
    {
      "cell_type":"code",
      "source":[
        "get_average_score(svm.SVC(C=1, kernel=\"linear\"), normalized=False)"
      ],
      "execution_count":80,
      "outputs":[
        {
          "data":{
            "text\/plain":[
              "0.9772333333333324"
            ]
          },
          "metadata":{
            
          },
          "output_type":"display_data"
        }
      ],
      "metadata":{
        
      }
    },
    {
      "cell_type":"code",
      "source":[
        "get_average_score(svm.SVC(C=0.5, kernel=\"linear\"), normalized=True)"
      ],
      "execution_count":81,
      "outputs":[
        {
          "data":{
            "text\/plain":[
              "0.9547999999999957"
            ]
          },
          "metadata":{
            
          },
          "output_type":"display_data"
        }
      ],
      "metadata":{
        
      }
    },
    {
      "cell_type":"code",
      "source":[
        "get_average_score(svm.SVC(C=0.5, kernel=\"linear\"), normalized=False)"
      ],
      "execution_count":82,
      "outputs":[
        {
          "data":{
            "text\/plain":[
              "0.9786333333333334"
            ]
          },
          "metadata":{
            
          },
          "output_type":"display_data"
        }
      ],
      "metadata":{
        
      }
    },
    {
      "cell_type":"markdown",
      "source":[
        "**Conclusion:** Best result without normalization with C near 0.5"
      ],
      "metadata":{
        
      }
    },
    {
      "cell_type":"markdown",
      "source":[
        "### 3. Testing poly kernel"
      ],
      "metadata":{
        
      }
    },
    {
      "cell_type":"code",
      "source":[
        "get_average_score(svm.SVC(C=1, kernel=\"poly\"), normalized=True)"
      ],
      "execution_count":83,
      "outputs":[
        {
          "data":{
            "text\/plain":[
              "0.9569333333333296"
            ]
          },
          "metadata":{
            
          },
          "output_type":"display_data"
        }
      ],
      "metadata":{
        
      }
    },
    {
      "cell_type":"code",
      "source":[
        "get_average_score(svm.SVC(C=1, kernel=\"poly\"), normalized=False)"
      ],
      "execution_count":84,
      "outputs":[
        {
          "data":{
            "text\/plain":[
              "0.964266666666664"
            ]
          },
          "metadata":{
            
          },
          "output_type":"display_data"
        }
      ],
      "metadata":{
        
      }
    },
    {
      "cell_type":"code",
      "source":[
        "get_average_score(svm.SVC(C=0.5, kernel=\"poly\"), normalized=True)"
      ],
      "execution_count":85,
      "outputs":[
        {
          "data":{
            "text\/plain":[
              "0.9597333333333304"
            ]
          },
          "metadata":{
            
          },
          "output_type":"display_data"
        }
      ],
      "metadata":{
        
      }
    },
    {
      "cell_type":"code",
      "source":[
        "get_average_score(svm.SVC(C=0.5, kernel=\"poly\"), normalized=False)"
      ],
      "execution_count":86,
      "outputs":[
        {
          "data":{
            "text\/plain":[
              "0.9659999999999974"
            ]
          },
          "metadata":{
            
          },
          "output_type":"display_data"
        }
      ],
      "metadata":{
        
      }
    },
    {
      "cell_type":"markdown",
      "source":[
        "**Conclusion**: Best results with normalization with higher C"
      ],
      "metadata":{
        
      }
    },
    {
      "cell_type":"markdown",
      "source":[
        "- ## Vizualizing dataset"
      ],
      "metadata":{
        
      }
    },
    {
      "cell_type":"code",
      "source":[
        "from sklearn import decomposition\n",
        "import matplotlib.pyplot as plt"
      ],
      "execution_count":87,
      "outputs":[
        
      ],
      "metadata":{
        
      }
    },
    {
      "cell_type":"code",
      "source":[
        "pca = decomposition.PCA(n_components=2)\n",
        "pca.fit(features)\n",
        "dec_features = pca.transform(features)\n",
        "dec_features"
      ],
      "execution_count":88,
      "outputs":[
        {
          "data":{
            "text\/plain":[
              "array([[-2.68420713,  0.32660731],\n",
              "       [-2.71539062, -0.16955685],\n",
              "       [-2.88981954, -0.13734561],\n",
              "       [-2.7464372 , -0.31112432],\n",
              "       [-2.72859298,  0.33392456],\n",
              "       [-2.27989736,  0.74778271],\n",
              "       [-2.82089068, -0.08210451],\n",
              "       [-2.62648199,  0.17040535],\n",
              "       [-2.88795857, -0.57079803],\n",
              "       [-2.67384469, -0.1066917 ],\n",
              "       [-2.50652679,  0.65193501],\n",
              "       [-2.61314272,  0.02152063],\n",
              "       [-2.78743398, -0.22774019],\n",
              "       [-3.22520045, -0.50327991],\n",
              "       [-2.64354322,  1.1861949 ],\n",
              "       [-2.38386932,  1.34475434],\n",
              "       [-2.6225262 ,  0.81808967],\n",
              "       [-2.64832273,  0.31913667],\n",
              "       [-2.19907796,  0.87924409],\n",
              "       [-2.58734619,  0.52047364],\n",
              "       [-2.3105317 ,  0.39786782],\n",
              "       [-2.54323491,  0.44003175],\n",
              "       [-3.21585769,  0.14161557],\n",
              "       [-2.30312854,  0.10552268],\n",
              "       [-2.35617109, -0.03120959],\n",
              "       [-2.50791723, -0.13905634],\n",
              "       [-2.469056  ,  0.13788731],\n",
              "       [-2.56239095,  0.37468456],\n",
              "       [-2.63982127,  0.31929007],\n",
              "       [-2.63284791, -0.19007583],\n",
              "       [-2.58846205, -0.19739308],\n",
              "       [-2.41007734,  0.41808001],\n",
              "       [-2.64763667,  0.81998263],\n",
              "       [-2.59715948,  1.10002193],\n",
              "       [-2.67384469, -0.1066917 ],\n",
              "       [-2.86699985,  0.0771931 ],\n",
              "       [-2.62522846,  0.60680001],\n",
              "       [-2.67384469, -0.1066917 ],\n",
              "       [-2.98184266, -0.48025005],\n",
              "       [-2.59032303,  0.23605934],\n",
              "       [-2.77013891,  0.27105942],\n",
              "       [-2.85221108, -0.93286537],\n",
              "       [-2.99829644, -0.33430757],\n",
              "       [-2.4055141 ,  0.19591726],\n",
              "       [-2.20883295,  0.44269603],\n",
              "       [-2.71566519, -0.24268148],\n",
              "       [-2.53757337,  0.51036755],\n",
              "       [-2.8403213 , -0.22057634],\n",
              "       [-2.54268576,  0.58628103],\n",
              "       [-2.70391231,  0.11501085],\n",
              "       [ 1.28479459,  0.68543919],\n",
              "       [ 0.93241075,  0.31919809],\n",
              "       [ 1.46406132,  0.50418983],\n",
              "       [ 0.18096721, -0.82560394],\n",
              "       [ 1.08713449,  0.07539039],\n",
              "       [ 0.64043675, -0.41732348],\n",
              "       [ 1.09522371,  0.28389121],\n",
              "       [-0.75146714, -1.00110751],\n",
              "       [ 1.04329778,  0.22895691],\n",
              "       [-0.01019007, -0.72057487],\n",
              "       [-0.5110862 , -1.26249195],\n",
              "       [ 0.51109806, -0.10228411],\n",
              "       [ 0.26233576, -0.5478933 ],\n",
              "       [ 0.98404455, -0.12436042],\n",
              "       [-0.174864  , -0.25181557],\n",
              "       [ 0.92757294,  0.46823621],\n",
              "       [ 0.65959279, -0.35197629],\n",
              "       [ 0.23454059, -0.33192183],\n",
              "       [ 0.94236171, -0.54182226],\n",
              "       [ 0.0432464 , -0.58148945],\n",
              "       [ 1.11624072, -0.08421401],\n",
              "       [ 0.35678657, -0.06682383],\n",
              "       [ 1.29646885, -0.32756152],\n",
              "       [ 0.92050265, -0.18239036],\n",
              "       [ 0.71400821,  0.15037915],\n",
              "       [ 0.89964086,  0.32961098],\n",
              "       [ 1.33104142,  0.24466952],\n",
              "       [ 1.55739627,  0.26739258],\n",
              "       [ 0.81245555, -0.16233157],\n",
              "       [-0.30733476, -0.36508661],\n",
              "       [-0.07034289, -0.70253793],\n",
              "       [-0.19188449, -0.67749054],\n",
              "       [ 0.13499495, -0.31170964],\n",
              "       [ 1.37873698, -0.42120514],\n",
              "       [ 0.58727485, -0.48328427],\n",
              "       [ 0.8072055 ,  0.19505396],\n",
              "       [ 1.22042897,  0.40803534],\n",
              "       [ 0.81286779, -0.370679  ],\n",
              "       [ 0.24519516, -0.26672804],\n",
              "       [ 0.16451343, -0.67966147],\n",
              "       [ 0.46303099, -0.66952655],\n",
              "       [ 0.89016045, -0.03381244],\n",
              "       [ 0.22887905, -0.40225762],\n",
              "       [-0.70708128, -1.00842476],\n",
              "       [ 0.35553304, -0.50321849],\n",
              "       [ 0.33112695, -0.21118014],\n",
              "       [ 0.37523823, -0.29162202],\n",
              "       [ 0.64169028,  0.01907118],\n",
              "       [-0.90846333, -0.75156873],\n",
              "       [ 0.29780791, -0.34701652],\n",
              "       [ 2.53172698, -0.01184224],\n",
              "       [ 1.41407223, -0.57492506],\n",
              "       [ 2.61648461,  0.34193529],\n",
              "       [ 1.97081495, -0.18112569],\n",
              "       [ 2.34975798, -0.04188255],\n",
              "       [ 3.39687992,  0.54716805],\n",
              "       [ 0.51938325, -1.19135169],\n",
              "       [ 2.9320051 ,  0.35237701],\n",
              "       [ 2.31967279, -0.24554817],\n",
              "       [ 2.91813423,  0.78038063],\n",
              "       [ 1.66193495,  0.2420384 ],\n",
              "       [ 1.80234045, -0.21615461],\n",
              "       [ 2.16537886,  0.21528028],\n",
              "       [ 1.34459422, -0.77641543],\n",
              "       [ 1.5852673 , -0.53930705],\n",
              "       [ 1.90474358,  0.11881899],\n",
              "       [ 1.94924878,  0.04073026],\n",
              "       [ 3.48876538,  1.17154454],\n",
              "       [ 3.79468686,  0.25326557],\n",
              "       [ 1.29832982, -0.76101394],\n",
              "       [ 2.42816726,  0.37678197],\n",
              "       [ 1.19809737, -0.60557896],\n",
              "       [ 3.49926548,  0.45677347],\n",
              "       [ 1.38766825, -0.20403099],\n",
              "       [ 2.27585365,  0.33338653],\n",
              "       [ 2.61419383,  0.55836695],\n",
              "       [ 1.25762518, -0.179137  ],\n",
              "       [ 1.29066965, -0.11642525],\n",
              "       [ 2.12285398, -0.21085488],\n",
              "       [ 2.3875644 ,  0.46251925],\n",
              "       [ 2.84096093,  0.37274259],\n",
              "       [ 3.2323429 ,  1.37052404],\n",
              "       [ 2.15873837, -0.21832553],\n",
              "       [ 1.4431026 , -0.14380129],\n",
              "       [ 1.77964011, -0.50146479],\n",
              "       [ 3.07652162,  0.68576444],\n",
              "       [ 2.14498686,  0.13890661],\n",
              "       [ 1.90486293,  0.04804751],\n",
              "       [ 1.16885347, -0.1645025 ],\n",
              "       [ 2.10765373,  0.37148225],\n",
              "       [ 2.31430339,  0.18260885],\n",
              "       [ 1.92245088,  0.40927118],\n",
              "       [ 1.41407223, -0.57492506],\n",
              "       [ 2.56332271,  0.2759745 ],\n",
              "       [ 2.41939122,  0.30350394],\n",
              "       [ 1.94401705,  0.18741522],\n",
              "       [ 1.52566363, -0.37502085],\n",
              "       [ 1.76404594,  0.07851919],\n",
              "       [ 1.90162908,  0.11587675],\n",
              "       [ 1.38966613, -0.28288671]])"
            ]
          },
          "metadata":{
            
          },
          "output_type":"display_data"
        }
      ],
      "metadata":{
        
      }
    },
    {
      "cell_type":"code",
      "source":[
        "np.random.seed(42)\n",
        "train_f, train_n, test_f, test_n = get_sets(dec_features, names)\n",
        "\n",
        "clf = svm.SVC(C=0.5, kernel=\"linear\")\n",
        "clf.fit(train_f, train_n)\n",
        "clf.score(test_f, test_n)"
      ],
      "execution_count":89,
      "outputs":[
        {
          "data":{
            "text\/plain":[
              "0.9666666666666667"
            ]
          },
          "metadata":{
            
          },
          "output_type":"display_data"
        }
      ],
      "metadata":{
        
      }
    },
    {
      "cell_type":"code",
      "source":[
        "colours = np.unique(test_n, return_inverse=True)[1]\n",
        "labels = np.unique(test_n, return_inverse=True)[0].tolist()\n",
        "\n",
        "sc = plt.scatter(test_f[:,0], test_f[:,1], c=colours, edgecolors=\"k\")\n",
        "plt.title(\"Original dataset classification\")\n",
        "plt.legend(handles=sc.legend_elements()[0], labels=labels)\n",
        "\n",
        "plt.xlim([-3.5, 4])\n",
        "plt.ylim([-1.5, 1.5])\n",
        "\n",
        "plt.show()"
      ],
      "execution_count":90,
      "outputs":[
        {
          "data":{
            "image\/png":"[encoded data removed]"
          },
          "metadata":{
            "image\/png":{
              "width":0,
              "height":0
            }
          },
          "output_type":"display_data"
        }
      ],
      "metadata":{
        
      }
    },
    {
      "cell_type":"markdown",
      "source":[
        "**Now it's clear why classifier confuses iris-versicolor and iris-virginica. Let's see how classifieir predicts labels for such data**"
      ],
      "metadata":{
        
      }
    },
    {
      "cell_type":"code",
      "source":[
        "predicted = np.unique(clf.predict(test_f), return_inverse=True)[1]\n",
        "\n",
        "pr_sc = plt.scatter(test_f[:,0], test_f[:,1], c=predicted, edgecolors=\"k\")\n",
        "plt.title(\"Predicted values classification\")\n",
        "plt.legend(handles=pr_sc.legend_elements()[0], labels=labels)\n",
        "\n",
        "plt.xlim([-3.5, 4])\n",
        "plt.ylim([-1.5, 1.5])\n",
        "plt.show()"
      ],
      "execution_count":91,
      "outputs":[
        {
          "data":{
            "image\/png":"[encoded data removed]"
          },
          "metadata":{
            "image\/png":{
              "width":0,
              "height":0
            }
          },
          "output_type":"display_data"
        }
      ],
      "metadata":{
        
      }
    },
    {
      "cell_type":"markdown",
      "source":[
        
      ],
      "metadata":{
        
      }
    }
  ],
  "metadata":{
    
  },
  "nbformat":4,
  "nbformat_minor":0
}