{
  "cells":[
    {
      "cell_type":"markdown",
      "source":[
        "# Continuous Classifier - SVM & Kneighbour comparison"
      ],
      "metadata":{
        
      }
    },
    {
      "cell_type":"markdown",
      "source":[
        "# 1. Preparing data"
      ],
      "metadata":{
        
      }
    },
    {
      "cell_type":"code",
      "source":[
        "import pandas as pd"
      ],
      "execution_count":null,
      "outputs":[
        
      ],
      "metadata":{
        
      }
    },
    {
      "cell_type":"code",
      "source":[
        "dataset = pd.read_csv(\"data.csv\", index_col=\"PassengerId\")\n",
        "dataset.head()"
      ],
      "execution_count":null,
      "outputs":[
        
      ],
      "metadata":{
        
      }
    },
    {
      "cell_type":"code",
      "source":[
        "dataset['Sex'] = dataset['Sex'].astype('category')\n",
        "dataset['Pclass'] = dataset['Pclass'].replace({1: 'Upper', 2: 'Middle', 3: 'Lower'}).astype('category')\n",
        "dataset['Embarked'] = dataset['Embarked'].replace({'S':'Southampton', 'C':'Cherbourg', 'Q':'Queenstown'}).astype('category')"
      ],
      "execution_count":null,
      "outputs":[
        
      ],
      "metadata":{
        
      }
    },
    {
      "cell_type":"code",
      "source":[
        "d_dataset = pd.get_dummies(dataset.drop([\"Name\", \"Ticket\", \"Cabin\"], 1))\n",
        "d_dataset.head()"
      ],
      "execution_count":null,
      "outputs":[
        
      ],
      "metadata":{
        
      }
    },
    {
      "cell_type":"code",
      "source":[
        "d_dataset[d_dataset.isnull().any(axis=1)]"
      ],
      "execution_count":null,
      "outputs":[
        
      ],
      "metadata":{
        
      }
    },
    {
      "cell_type":"code",
      "source":[
        "d_dataset.interpolate(inplace=True)"
      ],
      "execution_count":null,
      "outputs":[
        
      ],
      "metadata":{
        
      }
    },
    {
      "cell_type":"code",
      "source":[
        "X = d_dataset.drop([\"Survived\"], 1)\n",
        "Y = d_dataset[\"Survived\"]"
      ],
      "execution_count":null,
      "outputs":[
        
      ],
      "metadata":{
        
      }
    },
    {
      "cell_type":"markdown",
      "source":[
        "# 2. SVM classifier"
      ],
      "metadata":{
        
      }
    },
    {
      "cell_type":"code",
      "source":[
        "from sklearn.svm import SVC\n",
        "from sklearn.model_selection import cross_val_score"
      ],
      "execution_count":null,
      "outputs":[
        
      ],
      "metadata":{
        
      }
    },
    {
      "cell_type":"code",
      "source":[
        "model = SVC()\n",
        "cross_val_score(model, X, Y, cv=5, n_jobs=-1)"
      ],
      "execution_count":null,
      "outputs":[
        
      ],
      "metadata":{
        
      }
    },
    {
      "cell_type":"markdown",
      "source":[
        "# 3. KNeigbours"
      ],
      "metadata":{
        
      }
    },
    {
      "cell_type":"code",
      "source":[
        "from sklearn.neighbors import KNeighborsClassifier"
      ],
      "execution_count":null,
      "outputs":[
        
      ],
      "metadata":{
        
      }
    },
    {
      "cell_type":"code",
      "source":[
        "model2 = KNeighborsClassifier()\n",
        "cross_val_score(model, X, Y, cv=5, n_jobs=-1)"
      ],
      "execution_count":null,
      "outputs":[
        
      ],
      "metadata":{
        
      }
    },
    {
      "cell_type":"markdown",
      "source":[
        "# 4. Finding better hyperparameters"
      ],
      "metadata":{
        
      }
    },
    {
      "cell_type":"code",
      "source":[
        "from sklearn.model_selection import GridSearchCV"
      ],
      "execution_count":null,
      "outputs":[
        
      ],
      "metadata":{
        
      }
    },
    {
      "cell_type":"code",
      "source":[
        "parameters = {\n",
        "      \"n_neighbors\": [3, 5, 10, 15, 20],\n",
        "      \"weights\" : ['uniform', 'distance'],\n",
        "      \"p\" : [1, 2,3,4]\n",
        "}"
      ],
      "execution_count":null,
      "outputs":[
        
      ],
      "metadata":{
        
      }
    },
    {
      "cell_type":"code",
      "source":[
        "neighbors_model = KNeighborsClassifier()\n",
        "clf = GridSearchCV(neighbors_model, parameters)\n",
        "clf.fit(X, Y)"
      ],
      "execution_count":null,
      "outputs":[
        
      ],
      "metadata":{
        
      }
    },
    {
      "cell_type":"code",
      "source":[
        "clf.best_params_"
      ],
      "execution_count":null,
      "outputs":[
        
      ],
      "metadata":{
        
      }
    },
    {
      "cell_type":"code",
      "source":[
        "model2 = KNeighborsClassifier(n_neighbors=5, p=1, weights='uniform')\n",
        "cross_val_score(model2, X, Y, cv=5, n_jobs=-1)"
      ],
      "execution_count":null,
      "outputs":[
        
      ],
      "metadata":{
        
      }
    }
  ],
  "metadata":{
    
  },
  "nbformat":4,
  "nbformat_minor":0
}